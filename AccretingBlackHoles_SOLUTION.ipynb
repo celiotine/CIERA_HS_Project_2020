{
  "nbformat": 4,
  "nbformat_minor": 0,
  "metadata": {
    "colab": {
      "name": "AccretingBlackHoles.ipynb",
      "provenance": [],
      "collapsed_sections": [],
      "authorship_tag": "ABX9TyN2LRTqWWwpnKtei7RT8/FX",
      "include_colab_link": true
    },
    "kernelspec": {
      "name": "python3",
      "display_name": "Python 3"
    }
  },
  "cells": [
    {
      "cell_type": "markdown",
      "metadata": {
        "id": "view-in-github",
        "colab_type": "text"
      },
      "source": [
        "<a href=\"https://colab.research.google.com/github/celiotine/CIERA_HS_program/blob/master/AccretingBlackHoles_SOLUTION.ipynb\" target=\"_parent\"><img src=\"https://colab.research.google.com/assets/colab-badge.svg\" alt=\"Open In Colab\"/></a>"
      ]
    },
    {
      "cell_type": "markdown",
      "metadata": {
        "id": "x4U696dfojrB",
        "colab_type": "text"
      },
      "source": [
        "# **How Bright are Accreting Black Holes in Binary Systems?**\n",
        "## ***A Computational Investigation***\n",
        "Leader: Camille Liotine"
      ]
    },
    {
      "cell_type": "markdown",
      "metadata": {
        "id": "dCH6Fc67qLaz",
        "colab_type": "text"
      },
      "source": [
        "#### **Background**\n",
        "\n",
        "Binary star systems consist of two stars that orbit one another. Depending on the mass of these stars, one or more of them may explode in a supernova and form a black hole late in their lifetime. This is generally the case for stars with initial masses greater than 20 times that of the sun, or 20 solar masses ($M_\\odot$). \n",
        "\n",
        "In the majority of these binary systems, black hole formation occurs asynchronously. This implies that the binary undergoes a period time where one object is a black hole and one object is still a star. This stage of evolution is called the x-ray binary phase, and the system is referred to as an **x-ray binary**.\n",
        "\n",
        "Why do we call these systems x-ray binaries? During this evolutionary stage, the black hole accretes matter from its companion star due to its strong gravitational pull. The accretion process heats transferred material through gravitational and frictional forces, which in turn triggers the emission of x-rays. Below is a helpful illustration of this process:\n",
        "\n",
        "![photo1](https://drive.google.com/uc?export=view&id=1ya2mtVhdkbPInwV-kysQbDaqj-DYc--v)\n"
      ]
    },
    {
      "cell_type": "markdown",
      "metadata": {
        "id": "hA2c3Rki4CeN",
        "colab_type": "text"
      },
      "source": [
        "Because the matter surrounding these black holes emits brightly in the x-ray band of the electromagnetic spectrum, x-ray observatories (such as the Chandra Observatory) search for this emission to identify binary systems that house black holes. The brightness, or luminosity, that astronomers observe in these binaries is called the **accretion luminosity**, as it is the luminosity that results from the accretion process of stellar material onto the black hole. These observations help astronomers learn about the properties of these systems and predict their possible courses of evolution. For example, some astronomers are interested in finding systems like these that will eventually form colliding black holes, which can be observed with gravitational wave detections.\n",
        "\n",
        "In this project, we will take a closer look at how we can predict the luminosity of these black hole systems using computational methods and data from simulations.  Theoretical calculations like these help astronomers target their observations towards certain luminosities so that they can better identify these systems in the sky. These calculations also help astronomers compare their theoretical predictions with observations so that they can better understand if there are flaws in their theoretical or observational methods."
      ]
    },
    {
      "cell_type": "markdown",
      "metadata": {
        "id": "KDFv0DeB8G_C",
        "colab_type": "text"
      },
      "source": [
        "#### **Building a Luminosity Function**\n",
        "\n",
        "First, we need to write a function that calculates and returns the accretion luminosity of a black hole in a binary system. Once we have this function, we can apply it to simulation data in multiple different ways. Previous theoretical work tells us that the black hole accretion luminosity is calculated by:\n",
        "\n",
        "\n",
        "\n",
        "\n"
      ]
    },
    {
      "cell_type": "markdown",
      "metadata": {
        "id": "a6-7Hd7V-o0i",
        "colab_type": "text"
      },
      "source": [
        "$L_{acc} = \\eta \\dot{M}_{acc}c^2$\n",
        "\n",
        "where $L_{acc}$ is the accretion luminosity, $\\eta$ is a scale factor derived from relativistic properties of the black hole, $\\dot{M}_{acc}$ is the accretion rate of material onto the black hole, and $c$ is the speed of light.\n",
        "\n"
      ]
    },
    {
      "cell_type": "markdown",
      "metadata": {
        "id": "hXTKje-mBbvf",
        "colab_type": "text"
      },
      "source": [
        "The parameters $\\eta$ and $\\dot{M}_{acc}$ are calculated by:"
      ]
    },
    {
      "cell_type": "markdown",
      "metadata": {
        "id": "dM0P_VrYimVx",
        "colab_type": "text"
      },
      "source": [
        "$\\eta = 1 - \\sqrt{1 - \\bigg(\\frac{M_{BH}}{3M_{BH,0}}\\bigg)^2}$"
      ]
    },
    {
      "cell_type": "markdown",
      "metadata": {
        "id": "UxC08RpLivXt",
        "colab_type": "text"
      },
      "source": [
        "$\\dot{M}_{acc} = \\frac{\\dot{M}_{BH}}{1 - \\eta}$\n",
        "\n",
        "where $M_{BH}$ is the current black hole mass, $M_{BH,0}$ is the initial black hole mass, and $\\dot{M}_{BH}$ is the rate of change of the black hole mass."
      ]
    },
    {
      "cell_type": "markdown",
      "metadata": {
        "id": "FfgrCnN3jwxR",
        "colab_type": "text"
      },
      "source": [
        "The parameters provided in our simulation output are $M_{BH}$, $M_{BH,0}$, and $\\dot{M}_{BH}$. Using this information and the equations above, define a function in python that takes the appropriate input parameters, calculates $L_{acc}$, $\\eta$, and $\\dot{M}_{acc}$ in the proper order, and returns the accretion luminosity. Don't worry about defining numeric quantities for constants yet. "
      ]
    },
    {
      "cell_type": "code",
      "metadata": {
        "id": "YMWymO18lEfy",
        "colab_type": "code",
        "colab": {}
      },
      "source": [
        ""
      ],
      "execution_count": null,
      "outputs": []
    },
    {
      "cell_type": "markdown",
      "metadata": {
        "id": "4Bvp3mhtlFCc",
        "colab_type": "text"
      },
      "source": [
        "There are a couple refinements we need to make to our function before we can apply it to our simulation data. The first is that there is an upper limit for $\\eta$. Specifically, if $M_{BH}$ exceeds $\\sqrt{6}M_{BH,0}$, then $\\eta$ is taken to be $0.42$. Copy and paste your old function below, and then add this condition into your calculation for $\\eta$."
      ]
    },
    {
      "cell_type": "code",
      "metadata": {
        "id": "AnRNrT7Qqjau",
        "colab_type": "code",
        "colab": {}
      },
      "source": [
        ""
      ],
      "execution_count": null,
      "outputs": []
    },
    {
      "cell_type": "markdown",
      "metadata": {
        "id": "vKiqrnHtnE0U",
        "colab_type": "text"
      },
      "source": [
        "Next, we need to apply a **bolometric correction** to our calculated luminosity. A bolometric correction is a multiplicative factor that accounts for differences between the visible luminosity that we observe and the true brightness of the observed source. Bolometric corrections usually vary depending on the observing apparatus and specific properties of the observed object. However, since we are simulating binaries and not observing them, we take the bolometric correction factor to be constant for all sources. For binaries with accreting black holes, this correction is $0.8$. Copy and paste your old function below, and then multiply your final accretion luminosity by this factor before returning it. "
      ]
    },
    {
      "cell_type": "code",
      "metadata": {
        "id": "xhC9K05BnqYo",
        "colab_type": "code",
        "colab": {}
      },
      "source": [
        ""
      ],
      "execution_count": null,
      "outputs": []
    },
    {
      "cell_type": "markdown",
      "metadata": {
        "id": "pc8lKq4ZqkPs",
        "colab_type": "text"
      },
      "source": [
        "Lastly, we need to adjust the units of our calculation so that our final accretion luminosity has the traditional units of x-ray observations. To do this, we need to know the units of our simulation variables. Below is a list of the units for our simulation output data:\n",
        "\n",
        "$M_{BH}$ ---> [$M_\\odot$]\n",
        "\n",
        "$M_{BH,0}$ ---> [$M_\\odot$]\n",
        "\n",
        "$\\dot{M}_{BH}$ ---> [$M_\\odot yr^{-1}$]\n",
        "\n",
        "We want our final luminosity to be in **ergs per second**, or $erg$  $s^{-1}$, which is a common unit of measure for luminosities in astronomy. A helpful unit conversion for one $erg$ is:\n",
        "\n",
        "[$erg$] = [$g$ $cm^2$ $s^{-2}$]"
      ]
    },
    {
      "cell_type": "markdown",
      "metadata": {
        "id": "U09qQHuKuwsE",
        "colab_type": "text"
      },
      "source": [
        "Unforunately, it looks like we have a lot of converting to do! Alas, if you continue with astronomy or astrophysics, you'll find this is a common practice, as astronomers like to use a plethora of unique and often inconvenient units. "
      ]
    },
    {
      "cell_type": "markdown",
      "metadata": {
        "id": "i0JSeDLWvlHX",
        "colab_type": "text"
      },
      "source": [
        "Using dimensional analysis, work out any additional multiplicative constants you may need to add to your calculations so that your returned accretion luminosity has the correct units. You can choose the units of $c$ to be whatever is most convenient for your calculations. Copy and paste your old function below, and then write in your unit adjustments. Once you are done, define numeric quantities for your constants at the beginning of your function."
      ]
    },
    {
      "cell_type": "code",
      "metadata": {
        "id": "yNdeKKktw0WV",
        "colab_type": "code",
        "colab": {}
      },
      "source": [
        ""
      ],
      "execution_count": null,
      "outputs": []
    },
    {
      "cell_type": "markdown",
      "metadata": {
        "id": "8EqAlLuYynDl",
        "colab_type": "text"
      },
      "source": [
        "Your function is now ready to go! Let's put it to work with some simulation data."
      ]
    },
    {
      "cell_type": "markdown",
      "metadata": {
        "id": "Oy0RejEMyzrU",
        "colab_type": "text"
      },
      "source": [
        "#### **Applying Your Luminosity Function to Data: ```for``` Loop Method**"
      ]
    },
    {
      "cell_type": "markdown",
      "metadata": {
        "id": "OsOf957R4FSW",
        "colab_type": "text"
      },
      "source": [
        "First, read-in the simulation data file called ```\"cosmic_data_1.csv\"```, located in this project folder, and store it as a ```pandas``` dataframe. Make sure to import ```pandas``` and any other packages you might need first!"
      ]
    },
    {
      "cell_type": "code",
      "metadata": {
        "id": "3AmDCjWW-7yT",
        "colab_type": "code",
        "colab": {}
      },
      "source": [
        "import pandas as pd\n",
        "import numpy as np\n",
        "import matplotlib.pyplot as plt"
      ],
      "execution_count": null,
      "outputs": []
    },
    {
      "cell_type": "code",
      "metadata": {
        "id": "aAwL9NBi-WYq",
        "colab_type": "code",
        "colab": {
          "resources": {
            "http://localhost:8080/nbextensions/google.colab/files.js": {
              "data": "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",
              "ok": true,
              "headers": [
                [
                  "content-type",
                  "application/javascript"
                ]
              ],
              "status": 200,
              "status_text": ""
            }
          },
          "base_uri": "https://localhost:8080/",
          "height": 72
        },
        "outputId": "8bcfa0c1-38b7-4f9e-f970-d80419783473"
      },
      "source": [
        "from google.colab import files\n",
        "uploaded = files.upload()\n",
        "\n",
        "df = pd.read_csv(\"cosmic_data_1.csv\")"
      ],
      "execution_count": 29,
      "outputs": [
        {
          "output_type": "display_data",
          "data": {
            "text/html": [
              "\n",
              "     <input type=\"file\" id=\"files-a6152de0-2bfd-4f0a-97f0-25e61fbff03e\" name=\"files[]\" multiple disabled\n",
              "        style=\"border:none\" />\n",
              "     <output id=\"result-a6152de0-2bfd-4f0a-97f0-25e61fbff03e\">\n",
              "      Upload widget is only available when the cell has been executed in the\n",
              "      current browser session. Please rerun this cell to enable.\n",
              "      </output>\n",
              "      <script src=\"/nbextensions/google.colab/files.js\"></script> "
            ],
            "text/plain": [
              "<IPython.core.display.HTML object>"
            ]
          },
          "metadata": {
            "tags": []
          }
        },
        {
          "output_type": "stream",
          "text": [
            "Saving cosmic_data_1.csv to cosmic_data_1 (2).csv\n"
          ],
          "name": "stdout"
        }
      ]
    },
    {
      "cell_type": "markdown",
      "metadata": {
        "id": "6IpToycU4hbw",
        "colab_type": "text"
      },
      "source": [
        "Now, open the file and examine its format, including column titles, the number of rows, etc. "
      ]
    },
    {
      "cell_type": "code",
      "metadata": {
        "id": "LS4NGhPBGIwo",
        "colab_type": "code",
        "colab": {
          "base_uri": "https://localhost:8080/",
          "height": 609
        },
        "outputId": "06f5c5fb-d905-47f1-f0c1-7a848af99c4d"
      },
      "source": [
        "df\n"
      ],
      "execution_count": 27,
      "outputs": [
        {
          "output_type": "execute_result",
          "data": {
            "text/html": [
              "<div>\n",
              "<style scoped>\n",
              "    .dataframe tbody tr th:only-of-type {\n",
              "        vertical-align: middle;\n",
              "    }\n",
              "\n",
              "    .dataframe tbody tr th {\n",
              "        vertical-align: top;\n",
              "    }\n",
              "\n",
              "    .dataframe thead th {\n",
              "        text-align: right;\n",
              "    }\n",
              "</style>\n",
              "<table border=\"1\" class=\"dataframe\">\n",
              "  <thead>\n",
              "    <tr style=\"text-align: right;\">\n",
              "      <th></th>\n",
              "      <th>tphys</th>\n",
              "      <th>kstar_1</th>\n",
              "      <th>mass0_1</th>\n",
              "      <th>mass_1</th>\n",
              "      <th>lum_1</th>\n",
              "      <th>rad_1</th>\n",
              "      <th>teff_1</th>\n",
              "      <th>massc_1</th>\n",
              "      <th>radc_1</th>\n",
              "      <th>menv_1</th>\n",
              "      <th>renv_1</th>\n",
              "      <th>epoch_1</th>\n",
              "      <th>omega_spin_1</th>\n",
              "      <th>deltam_1</th>\n",
              "      <th>RRLO_1</th>\n",
              "      <th>kstar_2</th>\n",
              "      <th>mass0_2</th>\n",
              "      <th>mass_2</th>\n",
              "      <th>lum_2</th>\n",
              "      <th>rad_2</th>\n",
              "      <th>teff_2</th>\n",
              "      <th>massc_2</th>\n",
              "      <th>radc_2</th>\n",
              "      <th>menv_2</th>\n",
              "      <th>renv_2</th>\n",
              "      <th>epoch_2</th>\n",
              "      <th>omega_spin_2</th>\n",
              "      <th>deltam_2</th>\n",
              "      <th>RRLO_2</th>\n",
              "      <th>porb</th>\n",
              "      <th>sep</th>\n",
              "      <th>ecc</th>\n",
              "      <th>B_1</th>\n",
              "      <th>B_2</th>\n",
              "      <th>SN_1</th>\n",
              "      <th>SN_2</th>\n",
              "      <th>bin_state</th>\n",
              "      <th>merger_type</th>\n",
              "      <th>bin_num</th>\n",
              "    </tr>\n",
              "  </thead>\n",
              "  <tbody>\n",
              "    <tr>\n",
              "      <th>0</th>\n",
              "      <td>5.839342</td>\n",
              "      <td>1.0</td>\n",
              "      <td>56.722480</td>\n",
              "      <td>56.722480</td>\n",
              "      <td>785925.620925</td>\n",
              "      <td>16.445569</td>\n",
              "      <td>42568.712422</td>\n",
              "      <td>0.0</td>\n",
              "      <td>0.0</td>\n",
              "      <td>1.000000e-10</td>\n",
              "      <td>1.000000e-10</td>\n",
              "      <td>2.448241</td>\n",
              "      <td>2196.367793</td>\n",
              "      <td>-8.644212e-07</td>\n",
              "      <td>0.022238</td>\n",
              "      <td>14.0</td>\n",
              "      <td>13.641792</td>\n",
              "      <td>11.611779</td>\n",
              "      <td>1.000000e-10</td>\n",
              "      <td>0.000049</td>\n",
              "      <td>2612.987320</td>\n",
              "      <td>11.611779</td>\n",
              "      <td>0.000049</td>\n",
              "      <td>1.000000e-10</td>\n",
              "      <td>1.000000e-10</td>\n",
              "      <td>5.839342</td>\n",
              "      <td>2.000000e+08</td>\n",
              "      <td>-3.977718e-06</td>\n",
              "      <td>1.363031e-07</td>\n",
              "      <td>939.697311</td>\n",
              "      <td>1650.023178</td>\n",
              "      <td>0.136005</td>\n",
              "      <td>0.0</td>\n",
              "      <td>0.0</td>\n",
              "      <td>0.0</td>\n",
              "      <td>1.0</td>\n",
              "      <td>0</td>\n",
              "      <td>-1</td>\n",
              "      <td>0</td>\n",
              "    </tr>\n",
              "    <tr>\n",
              "      <th>1</th>\n",
              "      <td>5.849342</td>\n",
              "      <td>1.0</td>\n",
              "      <td>56.713818</td>\n",
              "      <td>56.713818</td>\n",
              "      <td>787596.997738</td>\n",
              "      <td>16.525692</td>\n",
              "      <td>42487.952371</td>\n",
              "      <td>0.0</td>\n",
              "      <td>0.0</td>\n",
              "      <td>1.000000e-10</td>\n",
              "      <td>1.000000e-10</td>\n",
              "      <td>2.447987</td>\n",
              "      <td>2178.907968</td>\n",
              "      <td>-8.681463e-07</td>\n",
              "      <td>0.022344</td>\n",
              "      <td>14.0</td>\n",
              "      <td>13.641792</td>\n",
              "      <td>11.611779</td>\n",
              "      <td>1.000000e-10</td>\n",
              "      <td>0.000049</td>\n",
              "      <td>2612.987274</td>\n",
              "      <td>11.611779</td>\n",
              "      <td>0.000049</td>\n",
              "      <td>1.000000e-10</td>\n",
              "      <td>1.000000e-10</td>\n",
              "      <td>5.839342</td>\n",
              "      <td>2.273665e+08</td>\n",
              "      <td>4.113306e-11</td>\n",
              "      <td>1.362801e-07</td>\n",
              "      <td>939.935462</td>\n",
              "      <td>1650.232223</td>\n",
              "      <td>0.136005</td>\n",
              "      <td>0.0</td>\n",
              "      <td>0.0</td>\n",
              "      <td>0.0</td>\n",
              "      <td>1.0</td>\n",
              "      <td>0</td>\n",
              "      <td>-1</td>\n",
              "      <td>0</td>\n",
              "    </tr>\n",
              "    <tr>\n",
              "      <th>2</th>\n",
              "      <td>5.859342</td>\n",
              "      <td>1.0</td>\n",
              "      <td>56.705120</td>\n",
              "      <td>56.705120</td>\n",
              "      <td>789273.977968</td>\n",
              "      <td>16.606999</td>\n",
              "      <td>42406.358550</td>\n",
              "      <td>0.0</td>\n",
              "      <td>0.0</td>\n",
              "      <td>1.000000e-10</td>\n",
              "      <td>1.000000e-10</td>\n",
              "      <td>2.447732</td>\n",
              "      <td>2161.396473</td>\n",
              "      <td>-8.717677e-07</td>\n",
              "      <td>0.022452</td>\n",
              "      <td>14.0</td>\n",
              "      <td>13.641792</td>\n",
              "      <td>11.611780</td>\n",
              "      <td>1.000000e-10</td>\n",
              "      <td>0.000049</td>\n",
              "      <td>2612.987227</td>\n",
              "      <td>11.611780</td>\n",
              "      <td>0.000049</td>\n",
              "      <td>1.000000e-10</td>\n",
              "      <td>1.000000e-10</td>\n",
              "      <td>5.839342</td>\n",
              "      <td>2.551575e+08</td>\n",
              "      <td>4.169987e-11</td>\n",
              "      <td>1.362570e-07</td>\n",
              "      <td>940.174702</td>\n",
              "      <td>1650.442195</td>\n",
              "      <td>0.136005</td>\n",
              "      <td>0.0</td>\n",
              "      <td>0.0</td>\n",
              "      <td>0.0</td>\n",
              "      <td>1.0</td>\n",
              "      <td>0</td>\n",
              "      <td>-1</td>\n",
              "      <td>0</td>\n",
              "    </tr>\n",
              "    <tr>\n",
              "      <th>3</th>\n",
              "      <td>5.869342</td>\n",
              "      <td>1.0</td>\n",
              "      <td>56.696387</td>\n",
              "      <td>56.696387</td>\n",
              "      <td>790956.584585</td>\n",
              "      <td>16.689517</td>\n",
              "      <td>42323.919771</td>\n",
              "      <td>0.0</td>\n",
              "      <td>0.0</td>\n",
              "      <td>1.000000e-10</td>\n",
              "      <td>1.000000e-10</td>\n",
              "      <td>2.447474</td>\n",
              "      <td>2143.833702</td>\n",
              "      <td>-8.753711e-07</td>\n",
              "      <td>0.022561</td>\n",
              "      <td>14.0</td>\n",
              "      <td>13.641792</td>\n",
              "      <td>11.611780</td>\n",
              "      <td>1.000000e-10</td>\n",
              "      <td>0.000049</td>\n",
              "      <td>2612.987180</td>\n",
              "      <td>11.611780</td>\n",
              "      <td>0.000049</td>\n",
              "      <td>1.000000e-10</td>\n",
              "      <td>1.000000e-10</td>\n",
              "      <td>5.839342</td>\n",
              "      <td>2.833815e+08</td>\n",
              "      <td>4.227681e-11</td>\n",
              "      <td>1.362338e-07</td>\n",
              "      <td>940.415025</td>\n",
              "      <td>1650.653092</td>\n",
              "      <td>0.136005</td>\n",
              "      <td>0.0</td>\n",
              "      <td>0.0</td>\n",
              "      <td>0.0</td>\n",
              "      <td>1.0</td>\n",
              "      <td>0</td>\n",
              "      <td>-1</td>\n",
              "      <td>0</td>\n",
              "    </tr>\n",
              "    <tr>\n",
              "      <th>4</th>\n",
              "      <td>5.879342</td>\n",
              "      <td>1.0</td>\n",
              "      <td>56.687617</td>\n",
              "      <td>56.687617</td>\n",
              "      <td>792644.841098</td>\n",
              "      <td>16.773275</td>\n",
              "      <td>42240.624710</td>\n",
              "      <td>0.0</td>\n",
              "      <td>0.0</td>\n",
              "      <td>1.000000e-10</td>\n",
              "      <td>1.000000e-10</td>\n",
              "      <td>2.447214</td>\n",
              "      <td>2126.220073</td>\n",
              "      <td>-8.789551e-07</td>\n",
              "      <td>0.022672</td>\n",
              "      <td>14.0</td>\n",
              "      <td>13.641792</td>\n",
              "      <td>11.611781</td>\n",
              "      <td>1.000000e-10</td>\n",
              "      <td>0.000049</td>\n",
              "      <td>2612.987132</td>\n",
              "      <td>11.611781</td>\n",
              "      <td>0.000049</td>\n",
              "      <td>1.000000e-10</td>\n",
              "      <td>1.000000e-10</td>\n",
              "      <td>5.839342</td>\n",
              "      <td>3.120470e+08</td>\n",
              "      <td>4.286407e-11</td>\n",
              "      <td>1.362105e-07</td>\n",
              "      <td>940.656430</td>\n",
              "      <td>1650.864911</td>\n",
              "      <td>0.136005</td>\n",
              "      <td>0.0</td>\n",
              "      <td>0.0</td>\n",
              "      <td>0.0</td>\n",
              "      <td>1.0</td>\n",
              "      <td>0</td>\n",
              "      <td>-1</td>\n",
              "      <td>0</td>\n",
              "    </tr>\n",
              "    <tr>\n",
              "      <th>...</th>\n",
              "      <td>...</td>\n",
              "      <td>...</td>\n",
              "      <td>...</td>\n",
              "      <td>...</td>\n",
              "      <td>...</td>\n",
              "      <td>...</td>\n",
              "      <td>...</td>\n",
              "      <td>...</td>\n",
              "      <td>...</td>\n",
              "      <td>...</td>\n",
              "      <td>...</td>\n",
              "      <td>...</td>\n",
              "      <td>...</td>\n",
              "      <td>...</td>\n",
              "      <td>...</td>\n",
              "      <td>...</td>\n",
              "      <td>...</td>\n",
              "      <td>...</td>\n",
              "      <td>...</td>\n",
              "      <td>...</td>\n",
              "      <td>...</td>\n",
              "      <td>...</td>\n",
              "      <td>...</td>\n",
              "      <td>...</td>\n",
              "      <td>...</td>\n",
              "      <td>...</td>\n",
              "      <td>...</td>\n",
              "      <td>...</td>\n",
              "      <td>...</td>\n",
              "      <td>...</td>\n",
              "      <td>...</td>\n",
              "      <td>...</td>\n",
              "      <td>...</td>\n",
              "      <td>...</td>\n",
              "      <td>...</td>\n",
              "      <td>...</td>\n",
              "      <td>...</td>\n",
              "      <td>...</td>\n",
              "      <td>...</td>\n",
              "    </tr>\n",
              "    <tr>\n",
              "      <th>128</th>\n",
              "      <td>7.119342</td>\n",
              "      <td>7.0</td>\n",
              "      <td>19.745873</td>\n",
              "      <td>19.745873</td>\n",
              "      <td>666943.030529</td>\n",
              "      <td>1.477863</td>\n",
              "      <td>136293.382442</td>\n",
              "      <td>0.0</td>\n",
              "      <td>0.0</td>\n",
              "      <td>1.974587e+01</td>\n",
              "      <td>1.477863e+00</td>\n",
              "      <td>6.731833</td>\n",
              "      <td>4687.576484</td>\n",
              "      <td>-7.610584e-06</td>\n",
              "      <td>0.463320</td>\n",
              "      <td>14.0</td>\n",
              "      <td>13.641792</td>\n",
              "      <td>11.735573</td>\n",
              "      <td>1.000000e-10</td>\n",
              "      <td>0.000050</td>\n",
              "      <td>2599.169089</td>\n",
              "      <td>11.735573</td>\n",
              "      <td>0.000050</td>\n",
              "      <td>1.000000e-10</td>\n",
              "      <td>1.000000e-10</td>\n",
              "      <td>5.839342</td>\n",
              "      <td>1.932539e+11</td>\n",
              "      <td>3.688567e-07</td>\n",
              "      <td>1.978052e-05</td>\n",
              "      <td>0.425257</td>\n",
              "      <td>7.511694</td>\n",
              "      <td>0.000000</td>\n",
              "      <td>0.0</td>\n",
              "      <td>0.0</td>\n",
              "      <td>0.0</td>\n",
              "      <td>1.0</td>\n",
              "      <td>0</td>\n",
              "      <td>-1</td>\n",
              "      <td>0</td>\n",
              "    </tr>\n",
              "    <tr>\n",
              "      <th>129</th>\n",
              "      <td>7.129342</td>\n",
              "      <td>7.0</td>\n",
              "      <td>19.669703</td>\n",
              "      <td>19.669703</td>\n",
              "      <td>667684.287472</td>\n",
              "      <td>1.463511</td>\n",
              "      <td>136998.066132</td>\n",
              "      <td>0.0</td>\n",
              "      <td>0.0</td>\n",
              "      <td>1.966970e+01</td>\n",
              "      <td>1.463511e+00</td>\n",
              "      <td>6.730997</td>\n",
              "      <td>4719.374830</td>\n",
              "      <td>-7.623323e-06</td>\n",
              "      <td>0.458536</td>\n",
              "      <td>14.0</td>\n",
              "      <td>13.641792</td>\n",
              "      <td>11.739254</td>\n",
              "      <td>1.000000e-10</td>\n",
              "      <td>0.000050</td>\n",
              "      <td>2598.761540</td>\n",
              "      <td>11.739254</td>\n",
              "      <td>0.000050</td>\n",
              "      <td>1.000000e-10</td>\n",
              "      <td>1.000000e-10</td>\n",
              "      <td>5.839342</td>\n",
              "      <td>1.931936e+11</td>\n",
              "      <td>3.672412e-07</td>\n",
              "      <td>1.973687e-05</td>\n",
              "      <td>0.426703</td>\n",
              "      <td>7.522931</td>\n",
              "      <td>0.000000</td>\n",
              "      <td>0.0</td>\n",
              "      <td>0.0</td>\n",
              "      <td>0.0</td>\n",
              "      <td>1.0</td>\n",
              "      <td>0</td>\n",
              "      <td>-1</td>\n",
              "      <td>0</td>\n",
              "    </tr>\n",
              "    <tr>\n",
              "      <th>130</th>\n",
              "      <td>7.139342</td>\n",
              "      <td>7.0</td>\n",
              "      <td>19.593412</td>\n",
              "      <td>19.593412</td>\n",
              "      <td>668351.562705</td>\n",
              "      <td>1.447166</td>\n",
              "      <td>137803.974294</td>\n",
              "      <td>0.0</td>\n",
              "      <td>0.0</td>\n",
              "      <td>1.959341e+01</td>\n",
              "      <td>1.447166e+00</td>\n",
              "      <td>6.730132</td>\n",
              "      <td>4759.194158</td>\n",
              "      <td>-7.634796e-06</td>\n",
              "      <td>0.453118</td>\n",
              "      <td>14.0</td>\n",
              "      <td>13.641792</td>\n",
              "      <td>11.742916</td>\n",
              "      <td>1.000000e-10</td>\n",
              "      <td>0.000050</td>\n",
              "      <td>2598.356344</td>\n",
              "      <td>11.742916</td>\n",
              "      <td>0.000050</td>\n",
              "      <td>1.000000e-10</td>\n",
              "      <td>1.000000e-10</td>\n",
              "      <td>5.839342</td>\n",
              "      <td>1.931336e+11</td>\n",
              "      <td>3.649200e-07</td>\n",
              "      <td>1.969242e-05</td>\n",
              "      <td>0.428182</td>\n",
              "      <td>7.534483</td>\n",
              "      <td>0.000000</td>\n",
              "      <td>0.0</td>\n",
              "      <td>0.0</td>\n",
              "      <td>0.0</td>\n",
              "      <td>1.0</td>\n",
              "      <td>0</td>\n",
              "      <td>-1</td>\n",
              "      <td>0</td>\n",
              "    </tr>\n",
              "    <tr>\n",
              "      <th>131</th>\n",
              "      <td>7.149342</td>\n",
              "      <td>7.0</td>\n",
              "      <td>19.517013</td>\n",
              "      <td>19.517013</td>\n",
              "      <td>668945.769180</td>\n",
              "      <td>1.428629</td>\n",
              "      <td>138725.903376</td>\n",
              "      <td>0.0</td>\n",
              "      <td>0.0</td>\n",
              "      <td>1.951701e+01</td>\n",
              "      <td>1.428629e+00</td>\n",
              "      <td>6.729239</td>\n",
              "      <td>4809.113265</td>\n",
              "      <td>-7.645016e-06</td>\n",
              "      <td>0.447005</td>\n",
              "      <td>14.0</td>\n",
              "      <td>13.641792</td>\n",
              "      <td>11.746550</td>\n",
              "      <td>1.000000e-10</td>\n",
              "      <td>0.000050</td>\n",
              "      <td>2597.954315</td>\n",
              "      <td>11.746550</td>\n",
              "      <td>0.000050</td>\n",
              "      <td>1.000000e-10</td>\n",
              "      <td>1.000000e-10</td>\n",
              "      <td>5.839342</td>\n",
              "      <td>1.930741e+11</td>\n",
              "      <td>3.618195e-07</td>\n",
              "      <td>1.964717e-05</td>\n",
              "      <td>0.429693</td>\n",
              "      <td>7.546351</td>\n",
              "      <td>0.000000</td>\n",
              "      <td>0.0</td>\n",
              "      <td>0.0</td>\n",
              "      <td>0.0</td>\n",
              "      <td>1.0</td>\n",
              "      <td>0</td>\n",
              "      <td>-1</td>\n",
              "      <td>0</td>\n",
              "    </tr>\n",
              "    <tr>\n",
              "      <th>132</th>\n",
              "      <td>7.159342</td>\n",
              "      <td>7.0</td>\n",
              "      <td>19.440518</td>\n",
              "      <td>19.440518</td>\n",
              "      <td>669467.833410</td>\n",
              "      <td>1.407691</td>\n",
              "      <td>139781.078059</td>\n",
              "      <td>0.0</td>\n",
              "      <td>0.0</td>\n",
              "      <td>1.944052e+01</td>\n",
              "      <td>1.407691e+00</td>\n",
              "      <td>6.728317</td>\n",
              "      <td>4871.703536</td>\n",
              "      <td>-7.653999e-06</td>\n",
              "      <td>0.440134</td>\n",
              "      <td>14.0</td>\n",
              "      <td>13.641792</td>\n",
              "      <td>11.750150</td>\n",
              "      <td>1.000000e-10</td>\n",
              "      <td>0.000050</td>\n",
              "      <td>2597.556348</td>\n",
              "      <td>11.750150</td>\n",
              "      <td>0.000050</td>\n",
              "      <td>1.000000e-10</td>\n",
              "      <td>1.000000e-10</td>\n",
              "      <td>5.839342</td>\n",
              "      <td>1.930152e+11</td>\n",
              "      <td>3.578605e-07</td>\n",
              "      <td>1.960111e-05</td>\n",
              "      <td>0.431238</td>\n",
              "      <td>7.558539</td>\n",
              "      <td>0.000000</td>\n",
              "      <td>0.0</td>\n",
              "      <td>0.0</td>\n",
              "      <td>0.0</td>\n",
              "      <td>1.0</td>\n",
              "      <td>0</td>\n",
              "      <td>-1</td>\n",
              "      <td>0</td>\n",
              "    </tr>\n",
              "  </tbody>\n",
              "</table>\n",
              "<p>133 rows × 39 columns</p>\n",
              "</div>"
            ],
            "text/plain": [
              "        tphys  kstar_1    mass0_1  ...  bin_state  merger_type  bin_num\n",
              "0    5.839342      1.0  56.722480  ...          0           -1        0\n",
              "1    5.849342      1.0  56.713818  ...          0           -1        0\n",
              "2    5.859342      1.0  56.705120  ...          0           -1        0\n",
              "3    5.869342      1.0  56.696387  ...          0           -1        0\n",
              "4    5.879342      1.0  56.687617  ...          0           -1        0\n",
              "..        ...      ...        ...  ...        ...          ...      ...\n",
              "128  7.119342      7.0  19.745873  ...          0           -1        0\n",
              "129  7.129342      7.0  19.669703  ...          0           -1        0\n",
              "130  7.139342      7.0  19.593412  ...          0           -1        0\n",
              "131  7.149342      7.0  19.517013  ...          0           -1        0\n",
              "132  7.159342      7.0  19.440518  ...          0           -1        0\n",
              "\n",
              "[133 rows x 39 columns]"
            ]
          },
          "metadata": {
            "tags": []
          },
          "execution_count": 27
        }
      ]
    },
    {
      "cell_type": "markdown",
      "metadata": {
        "id": "84WqaUoO5CZI",
        "colab_type": "text"
      },
      "source": [
        "This file contains the evolutionary data for a single simulated binary system during its x-ray binary phase. Each row represents one timestep of the simulation, which you can see by looking at the ```tphys``` column. ```tphys``` is the time, in mega years (Myr), since the binary began its evolution. As a warm-up to practice working with the data, use ```pandas``` operations to calculate how long this system was in the x-ray binary phase, and print your result.\n",
        "\n",
        "\n",
        "\n"
      ]
    },
    {
      "cell_type": "code",
      "metadata": {
        "id": "GApt0Ylmo0xq",
        "colab_type": "code",
        "colab": {
          "base_uri": "https://localhost:8080/",
          "height": 34
        },
        "outputId": "581c53d8-f54e-4b4b-add7-4cce6d517db0"
      },
      "source": [
        "time_xrb = df['tphys'].iloc[-1] - df['tphys'].iloc[0]\n",
        "print (time_xrb, \"Myr\")"
      ],
      "execution_count": 20,
      "outputs": [
        {
          "output_type": "stream",
          "text": [
            "1.319999999999971 Myr\n"
          ],
          "name": "stdout"
        }
      ]
    },
    {
      "cell_type": "markdown",
      "metadata": {
        "id": "UZTn11Keo0Eq",
        "colab_type": "text"
      },
      "source": [
        "The parameters we will need to calculate the accretion luminosity are ```mass_2```, which represents the black hole mass, and ```deltam_2```, which represents the rate of change in the black hole mass. One way we can acquire luminosity information is to loop through the dataframe, row by row, and calculate the luminosity at each time step using our function.\n",
        "\n",
        "First, write a ```for``` loop that goes through each row of the data frame and applies your luminosity function at each iteration. Save your calculated luminosities in an array. Print your final array of luminosities to check that they are reasonable. Reasonable luminosities should fall between $10^{30}$ and $10^{45}$ $erg$ $s^{-1}$. *Hint: you will need to use a special iterator for your dataframe. Try the pandas function iterrows().* "
      ]
    },
    {
      "cell_type": "code",
      "metadata": {
        "id": "_mhLKCo7nhq6",
        "colab_type": "code",
        "colab": {}
      },
      "source": [
        "def calc_luminosity_loop(current_BH_mass, initial_BH_mass, mdot_BH):\n",
        "\n",
        "  ## phsyical constants                                                                                                                                   \n",
        "  c = 2.99e10         ## speed of light in cm/s                                                                                                           \n",
        "  secyr = 3.154e7    ## seconds per year                                                                                                                  \n",
        "  Myr = 1e6        ## years per Myr                                                                                                                       \n",
        "  Msun = 1.989e33    ## grams per solar mass    \n",
        "\n",
        "  bolometric_correction = 0.8\n",
        "\n",
        "  if current_BH_mass > np.sqrt(6)*initial_BH_mass:\n",
        "    eta = 0.42\n",
        "  else:\n",
        "    eta = 1 - np.sqrt(1-(current_BH_mass/(3*initial_BH_mass))**2)\n",
        "\n",
        "  acc_rate = mdot_BH/(1-eta)\n",
        "  luminosity = bolometric_correction*eta*acc_rate*c**2*Msun/secyr \n",
        "  \n",
        "  return luminosity\n"
      ],
      "execution_count": 42,
      "outputs": []
    },
    {
      "cell_type": "code",
      "metadata": {
        "id": "mAsumTZm9NzX",
        "colab_type": "code",
        "colab": {
          "base_uri": "https://localhost:8080/",
          "height": 54
        },
        "outputId": "92df52c0-ef90-4b8b-a76f-5c1908ca8133"
      },
      "source": [
        "acc_lum = []\n",
        "\n",
        "M_bh_0 = df['mass_2'].iloc[0]\n",
        "\n",
        "for index, row in df.iterrows():\n",
        "\n",
        "  M_bh = row['mass_2']\n",
        "  Mdot_bh = row['deltam_2']\n",
        "\n",
        "  luminosity = calc_luminosity_loop(M_bh, M_bh_0, Mdot_bh)\n",
        "  acc_lum.append(luminosity)\n",
        "\n",
        "print (acc_lum[1:])"
      ],
      "execution_count": 43,
      "outputs": [
        {
          "output_type": "stream",
          "text": [
            "[1.1253824357606537e+35, 1.1408902532088376e+35, 1.15667508227675e+35, 1.1727425194347763e+35, 1.1890982620657537e+35, 1.2057481083242852e+35, 1.2226979567940142e+35, 1.2399538059240882e+35, 1.2575217532243994e+35, 1.2754079941981612e+35, 1.2936188209883713e+35, 1.3121606207134254e+35, 1.3310398734653212e+35, 1.3502631499419352e+35, 1.3698371086831184e+35, 1.3897684928780529e+35, 1.4100641267094387e+35, 1.4307309111974175e+35, 1.4517758195041122e+35, 1.473205891656657e+35, 1.4950282286443669e+35, 1.5172499858423977e+35, 1.5398783657116954e+35, 1.5629206097214289e+35, 1.586383989437319e+35, 1.6102757967153891e+35, 1.6346033329372768e+35, 1.6593738972195514e+35, 1.6845947735253574e+35, 1.710273216602669e+35, 1.736416436669475e+35, 1.7630315827613737e+35, 1.790125724652863e+35, 1.8177058332588584e+35, 1.8457787594180668e+35, 1.874351210955004e+35, 1.9034297279124145e+35, 1.933020655840815e+35, 1.9631301170264548e+35, 1.9937639795342136e+35, 2.0249278239363684e+35, 2.056626907593254e+35, 2.0888661263466964e+35, 2.1216499734821e+35, 2.15498249581055e+35, 2.188867246717542e+35, 2.2233072360209952e+35, 2.2583048764775035e+35, 2.2938619267725447e+35, 2.3299794308278256e+35, 2.366657653257276e+35, 2.403896010802244e+35, 2.4416929995765908e+35, 2.4800461179541004e+35, 2.5189517849331463e+35, 2.5584052538183487e+35, 2.5984005210651685e+35, 2.6389302301421437e+35, 2.679985570276256e+35, 2.721556169960825e+35, 2.7636299851218772e+35, 2.806193181859614e+35, 2.8492300137052076e+35, 2.892722693361927e+35, 2.9366512589325733e+35, 2.9809934346733296e+35, 3.0257244863587074e+35, 3.0708170713919853e+35, 3.116241083853439e+35, 3.1619634947427317e+35, 3.2079481877450946e+35, 3.2541557909320736e+35, 3.3005435048987387e+35, 3.347064927939789e+35, 3.393669878978739e+35, 3.4403042190869024e+35, 3.486909672563332e+35, 3.533423648693801e+35, 3.579779065466376e+35, 3.625904176693713e+35, 3.671722404177764e+35, 3.717152176752576e+35, 3.762106778251696e+35, 3.806494206673013e+35, 3.850217047049783e+35, 3.893172360785027e+35, 3.963466647522253e+35, 4.094944852258477e+35, 4.2418766331786405e+35, 4.225328775898954e+35, 6.992807112382208e+38, 7.116718179805314e+38, 7.243278736017263e+38, 7.368739415836017e+38, 7.493099618985738e+38, 7.616365894191913e+38, 7.738549486648525e+38, 7.859663821746321e+38, 7.97972195232824e+38, 8.09873398061085e+38, 8.216704452681285e+38, 8.333629713474697e+38, 8.44949520328567e+38, 8.564272672830432e+38, 8.677917292183441e+38, 8.790364629049599e+38, 8.901527473307102e+38, 9.011292487142093e+38, 9.119516663039926e+38, 9.226023575133794e+38, 9.330599412742982e+38, 9.432988788225844e+38, 9.53289031444102e+38, 9.629951950102325e+38, 9.723766114084832e+38, 9.810461534769246e+38, 9.896497007010397e+38, 9.977704089167415e+38, 1.0053403214618086e+39, 1.0122831854713929e+39, 1.0185138397410648e+39, 1.0239375851941278e+39, 1.0284495388383123e+39, 1.0319339718672478e+39, 1.0342636322428025e+39, 1.0352990517242782e+39, 1.0348878369835597e+39, 1.0328639443472007e+39, 1.0290469381723752e+39, 1.0232412344599113e+39, 1.0152353349506391e+39, 1.0048010640722137e+39]\n"
          ],
          "name": "stdout"
        }
      ]
    },
    {
      "cell_type": "markdown",
      "metadata": {
        "id": "xkOQEOjDu45X",
        "colab_type": "text"
      },
      "source": [
        "Now that we have the accretion luminosity data for our binary, let's plot it to see how the system's emission changes over time. Using ```matplotlib```, make a time series plot using the ```tphys``` column from the simulation output along with your array of luminosities. Make sure to properly label your plot! *Hint: Use a log scale when plotting your luminosities so that you can better visualize the emission behavior.*"
      ]
    },
    {
      "cell_type": "code",
      "metadata": {
        "id": "hcamDOADv23K",
        "colab_type": "code",
        "colab": {
          "base_uri": "https://localhost:8080/",
          "height": 408
        },
        "outputId": "f07c67a2-22c8-4dad-defd-7669e821663e"
      },
      "source": [
        "fig, ax = plt.subplots(figsize=(8,6))\n",
        "plt.plot(df['tphys'][1:], np.log10(acc_lum[1:]))\n",
        "plt.xlabel(\"Time (Myr)\", size=13)\n",
        "plt.ylabel(\"Accretion Luminosity (log$_{10}$ erg/s)\", size=13)\n",
        "plt.title(\"Accretion Luminosity vs. Time\", size=14)\n",
        "plt.show()"
      ],
      "execution_count": 39,
      "outputs": [
        {
          "output_type": "display_data",
          "data": {
            "image/png": "[encoded data removed]",
            "text/plain": [
              "<Figure size 576x432 with 1 Axes>"
            ]
          },
          "metadata": {
            "tags": [],
            "needs_background": "light"
          }
        }
      ]
    },
    {
      "cell_type": "markdown",
      "metadata": {
        "id": "gCbDIRjiv3Mf",
        "colab_type": "text"
      },
      "source": [
        "One question researchers might ask is if a given binary system is observable. For a system to be observed by an x-ray observatory, it must reach a maximum luminosity above an observable threshold. Let's take our observable threshold to be $10^{37} erg$ $s^{-1}$, which is a common threshold used for the Chandra Observatory. Using your calculations, find the maximum luminosity of your binary system. Is it observable?"
      ]
    },
    {
      "cell_type": "code",
      "metadata": {
        "id": "2NcSBg-kxYmR",
        "colab_type": "code",
        "colab": {
          "base_uri": "https://localhost:8080/",
          "height": 34
        },
        "outputId": "831e3fb9-3f66-4aad-8419-f7b7f63ca17c"
      },
      "source": [
        "print (np.max(acc_lum))"
      ],
      "execution_count": 28,
      "outputs": [
        {
          "output_type": "stream",
          "text": [
            "1.0352990517242782e+39\n"
          ],
          "name": "stdout"
        }
      ]
    },
    {
      "cell_type": "markdown",
      "metadata": {
        "id": "YG8bY1a8xNn5",
        "colab_type": "text"
      },
      "source": [
        "#### **Applying Your Luminosity Function to Data: Array Method**"
      ]
    },
    {
      "cell_type": "markdown",
      "metadata": {
        "id": "3Eaig27IxoEe",
        "colab_type": "text"
      },
      "source": [
        "It turns out that ```for``` loops are too computationally slow to analyze very large files or many files in one run. Luckily, we can speed-up our code by passing arrays to our luminosity function instead of passing values at each timestep of the data. This will allow us to calculate all luminosities for the binary in one step! However, this method will require some alteration to your luminosity function.\n",
        "\n",
        "Primarily, now that your function takes arrays as parameters instead of values, you can no longer use conditional logic to determine what $\\eta$ should be. Instead, you should use boolean array logic, which is a standard application of ```numpy``` arrays. "
      ]
    },
    {
      "cell_type": "markdown",
      "metadata": {
        "id": "8kCgNfvq5CQt",
        "colab_type": "text"
      },
      "source": [
        "For example, let's say I have two arrays of the same size called ```x``` and ```y```. If want to know which values of ```x``` are less than their corresponding values in ```y```, I can write:\n",
        "\n",
        "```x_lower_values = x < y```\n",
        "\n",
        "```x_lower_values``` is an array of the same size as ```x``` and ```y```. It it contains ```True/False``` entries that tell me if the corresponding entry in ```x``` is less than that in ```y```. \n",
        "\n",
        "Another useful tool that might help you rework your luminosity function is ```np.where()```. This function takes a boolean array (such as ```x_lower_values``` in the example above) and returns an array that yields entires with two possible outcomes. The outcomes are supplied by you and depend on if a given boolean array entry is ```True``` or ```False```."
      ]
    },
    {
      "cell_type": "markdown",
      "metadata": {
        "id": "L7yufO2I5FUK",
        "colab_type": "text"
      },
      "source": [
        "Copy and paste your old luminosity function below. Then, using the tools described above and/or any other methods you prefer, alter you luminosity function so that it takes array parameters and then calculates and returns an array of accretion luminosities using array operations."
      ]
    },
    {
      "cell_type": "code",
      "metadata": {
        "id": "efJvJiShyXFD",
        "colab_type": "code",
        "colab": {}
      },
      "source": [
        "def calc_luminosity_arrays(current_BH_mass, initial_BH_mass, mdot_BH):\n",
        "\n",
        "    ## phsyical constants                                                                                                                                   \n",
        "    c = 2.99e10         ## speed of light in cm/s                                                                                                           \n",
        "    secyr = 3.154e7    ## seconds per year                                                                                                                  \n",
        "    Myr = 1e6        ## years per Myr                                                                                                                       \n",
        "    Msun = 1.989e33    ## grams per solar mass \n",
        "\n",
        "    bolometric_correction = 0.8\n",
        "    where_lower_masses = current_BH_mass < np.sqrt(6)*initial_BH_mass\n",
        "\n",
        "    eta_lower_masses = 1 - np.sqrt(1-(current_BH_mass/(3*initial_BH_mass))**2)\n",
        "    eta = np.where(where_lower_masses, eta_lower_masses, 0.42)\n",
        "\n",
        "    acc_rate = mdot_BH/(1-eta)\n",
        "    luminosity = bolometric_correction*eta*acc_rate*c**2*Msun/secyr   ## accretion luminosity in erg/sec                                                                                       \n",
        "\n",
        "    return luminosity\n"
      ],
      "execution_count": 47,
      "outputs": []
    },
    {
      "cell_type": "markdown",
      "metadata": {
        "id": "QWH1I7dV6IJR",
        "colab_type": "text"
      },
      "source": [
        "Now, apply your new and improved function to the data set above. You should now only need one line of code to calculate your array of accretion luminosities. Print your final array of luminosities to check that they are reasonable. *Hint: you may need to create an array for $M_{BH,0}$ that is the same length as your arrays for $M_{BH}$ and $\\dot M_{BH}$ in order to pass it to your function.*"
      ]
    },
    {
      "cell_type": "code",
      "metadata": {
        "id": "cTuX1j3l64HE",
        "colab_type": "code",
        "colab": {
          "base_uri": "https://localhost:8080/",
          "height": 221
        },
        "outputId": "28c3cf25-277e-4af5-9f4f-43c1174a830a"
      },
      "source": [
        "M_bh_0 = np.ones(len(df['mass_2']))*df['mass_2'].iloc[0]\n",
        "\n",
        "acc_lum_array = calc_luminosity_arrays(df['mass_2'], M_bh_0, df['deltam_2'])\n",
        "\n",
        "print (acc_lum_array[1:])"
      ],
      "execution_count": 53,
      "outputs": [
        {
          "output_type": "stream",
          "text": [
            "1      1.125382e+35\n",
            "2      1.140890e+35\n",
            "3      1.156675e+35\n",
            "4      1.172743e+35\n",
            "5      1.189098e+35\n",
            "           ...     \n",
            "128    1.032864e+39\n",
            "129    1.029047e+39\n",
            "130    1.023241e+39\n",
            "131    1.015235e+39\n",
            "132    1.004801e+39\n",
            "Name: deltam_2, Length: 132, dtype: float64\n"
          ],
          "name": "stdout"
        }
      ]
    },
    {
      "cell_type": "markdown",
      "metadata": {
        "id": "tmzev_DX5pIH",
        "colab_type": "text"
      },
      "source": [
        "To double check that your improved function is working correctly, make another time series plot using ```matplotlib```. This time, plot the accretion luminosities you obtained with the ```for``` loop method as well as those you obtained with the array method. They should appear to be the same line on your plot! Make sure to properly label your plot."
      ]
    },
    {
      "cell_type": "code",
      "metadata": {
        "id": "0i2GSkgI7m7Z",
        "colab_type": "code",
        "colab": {
          "base_uri": "https://localhost:8080/",
          "height": 408
        },
        "outputId": "cc577454-f51f-4758-806c-df245e5fcaf5"
      },
      "source": [
        "fig, ax = plt.subplots(figsize=(8,6))\n",
        "plt.plot(df['tphys'][1:], np.log10(acc_lum[1:]))\n",
        "plt.plot(df['tphys'][1:], np.log10(acc_lum_array[1:]))\n",
        "plt.xlabel(\"Time (Myr)\", size=13)\n",
        "plt.ylabel(\"Accretion Luminosity (log$_{10}$ erg/s)\", size=13)\n",
        "plt.title(\"Accretion Luminosity vs. Time\", size=14)\n",
        "plt.show()"
      ],
      "execution_count": 54,
      "outputs": [
        {
          "output_type": "display_data",
          "data": {
            "image/png": "[encoded data removed]",
            "text/plain": [
              "<Figure size 576x432 with 1 Axes>"
            ]
          },
          "metadata": {
            "tags": [],
            "needs_background": "light"
          }
        }
      ]
    },
    {
      "cell_type": "markdown",
      "metadata": {
        "id": "5ABzzKwF7uXF",
        "colab_type": "text"
      },
      "source": [
        "One fun way to examine the computational difference between your two luminosity functions is to time how long each of them takes to run. Copy and paste your pieces of code that run your different luminosity functions below. Import the python ```time``` module and use the ```time()``` function to determine the runtime of each code segment. Print both runtimes and compare them."
      ]
    },
    {
      "cell_type": "code",
      "metadata": {
        "id": "CK1cYXGV9ebB",
        "colab_type": "code",
        "colab": {
          "base_uri": "https://localhost:8080/",
          "height": 51
        },
        "outputId": "c3f9becf-32e2-4250-f0ff-1400ff1a9f30"
      },
      "source": [
        "import time\n",
        "\n",
        "start = time.time()\n",
        "M_bh_0 = np.ones(len(df['mass_2']))*df['mass_2'].iloc[0]\n",
        "acc_lum_array = calc_luminosity_arrays(df['mass_2'], M_bh_0, df['deltam_2'])\n",
        "end = time.time()\n",
        "array_time = end-start\n",
        "print (\"Arrays: \", array_time, \"sec\")\n",
        "\n",
        "\n",
        "start = time.time()\n",
        "acc_lum = []\n",
        "M_bh_0 = df['mass_2'].iloc[0]\n",
        "\n",
        "for index, row in df.iterrows():\n",
        "\n",
        "  M_bh = row['mass_2']\n",
        "  Mdot_bh = row['deltam_2']\n",
        "\n",
        "  luminosity = calc_luminosity_loop(M_bh, M_bh_0, Mdot_bh)\n",
        "  acc_lum.append(luminosity)\n",
        "end = time.time()\n",
        "loop_time = end-start\n",
        "print (\"For Loop: \", loop_time, \"sec\")\n",
        "\n"
      ],
      "execution_count": 61,
      "outputs": [
        {
          "output_type": "stream",
          "text": [
            "Arrays:  0.0035767555236816406 sec\n",
            "For Loop:  0.019446372985839844 sec\n"
          ],
          "name": "stdout"
        }
      ]
    },
    {
      "cell_type": "markdown",
      "metadata": {
        "id": "QL6IDwXu9e8V",
        "colab_type": "text"
      },
      "source": [
        "Even though the difference in runtimes may seem small, it is actually quite noticeable when applied to many systems. For example, one standard simulation run contains a population of ~50,000 binaries. Calculate how long each method would take to analyze the luminosities of a full population of binaries, and convert the resulting times (in seconds) to more useful units. "
      ]
    },
    {
      "cell_type": "code",
      "metadata": {
        "id": "is8KkO9X-Qq5",
        "colab_type": "code",
        "colab": {
          "base_uri": "https://localhost:8080/",
          "height": 51
        },
        "outputId": "2789d81f-63cf-49e3-ee32-6eba6d9e3d77"
      },
      "source": [
        "print (\"Arrays: \", 50000*array_time/60, \"min\")\n",
        "print (\"For Loop: \", 50000*loop_time/60, \"min\")"
      ],
      "execution_count": 62,
      "outputs": [
        {
          "output_type": "stream",
          "text": [
            "Arrays:  2.9806296030680337 min\n",
            "For Loop:  16.205310821533203 min\n"
          ],
          "name": "stdout"
        }
      ]
    },
    {
      "cell_type": "markdown",
      "metadata": {
        "id": "_q6Jv5pgFYaj",
        "colab_type": "text"
      },
      "source": [
        "Now, suppose we run a total of 10 different simulations, and need to analyze the luminosities of all systems in each simulation. How long does each method take to complete these calculations? Were the improvements to your luminosity function worth it?"
      ]
    },
    {
      "cell_type": "code",
      "metadata": {
        "id": "_UqL8EYAFZGX",
        "colab_type": "code",
        "colab": {
          "base_uri": "https://localhost:8080/",
          "height": 51
        },
        "outputId": "e68fb84f-78eb-445e-fb64-7dba4bb5e783"
      },
      "source": [
        "print (\"Arrays: \", 10*50000*array_time/60, \"min\")\n",
        "print (\"For Loop: \", 10*50000*loop_time/60/60, \"hrs\")"
      ],
      "execution_count": 65,
      "outputs": [
        {
          "output_type": "stream",
          "text": [
            "Arrays:  29.80629603068034 min\n",
            "For Loop:  2.7008851369222007 hrs\n"
          ],
          "name": "stdout"
        }
      ]
    },
    {
      "cell_type": "markdown",
      "metadata": {
        "id": "hLblF7X-yOJc",
        "colab_type": "text"
      },
      "source": [
        "#### **Bonus: Extended Data File**"
      ]
    },
    {
      "cell_type": "markdown",
      "metadata": {
        "id": "wkida8B2-6Ml",
        "colab_type": "text"
      },
      "source": [
        "The file ```cosmic_data_1.csv``` is actually a very small portion of a full simulation output file. Normally, researchers want information about the entire evolution of a binary system so that characteristics of its behavior, such as its merge status, emission properties, etc. are placed in context with one other. This allows correlations to be drawn between evolutionary behaviors and facilitates a more complete understanding of how binary evolution works.\n",
        "\n",
        "Read-in the simulation data file ```cosmic_data_2.csv```, also located in this project folder, and store it as a ```pandas``` dataframe (it may take a couple of minutes to upload). Open the file and examine its format, including column titles, the number of rows, etc. "
      ]
    },
    {
      "cell_type": "code",
      "metadata": {
        "id": "1-CzzLAvA5Kf",
        "colab_type": "code",
        "colab": {
          "resources": {
            "http://localhost:8080/nbextensions/google.colab/files.js": {
              "data": "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",
              "ok": true,
              "headers": [
                [
                  "content-type",
                  "application/javascript"
                ]
              ],
              "status": 200,
              "status_text": ""
            }
          },
          "base_uri": "https://localhost:8080/",
          "height": 72
        },
        "outputId": "262a5dae-5369-49fb-a3e8-5c1f8aeefba8"
      },
      "source": [
        "from google.colab import files\n",
        "uploaded = files.upload()\n"
      ],
      "execution_count": 2,
      "outputs": [
        {
          "output_type": "display_data",
          "data": {
            "text/html": [
              "\n",
              "     <input type=\"file\" id=\"files-06ffd6ef-093f-4040-b18b-003822b1b2b2\" name=\"files[]\" multiple disabled\n",
              "        style=\"border:none\" />\n",
              "     <output id=\"result-06ffd6ef-093f-4040-b18b-003822b1b2b2\">\n",
              "      Upload widget is only available when the cell has been executed in the\n",
              "      current browser session. Please rerun this cell to enable.\n",
              "      </output>\n",
              "      <script src=\"/nbextensions/google.colab/files.js\"></script> "
            ],
            "text/plain": [
              "<IPython.core.display.HTML object>"
            ]
          },
          "metadata": {
            "tags": []
          }
        },
        {
          "output_type": "stream",
          "text": [
            "Saving cosmic_data_2.csv to cosmic_data_2.csv\n"
          ],
          "name": "stdout"
        }
      ]
    },
    {
      "cell_type": "code",
      "metadata": {
        "id": "8jgUik8uIniA",
        "colab_type": "code",
        "colab": {}
      },
      "source": [
        "import pandas as pd\n",
        "import numpy as np\n",
        "\n",
        "df = pd.read_csv(\"cosmic_data_2.csv\")"
      ],
      "execution_count": 10,
      "outputs": []
    },
    {
      "cell_type": "markdown",
      "metadata": {
        "id": "w9Knrp97A5fW",
        "colab_type": "text"
      },
      "source": [
        "This file is clearly far more massive than the previous one - and it is still a reduced version of the full simulation output! To work with the complete data set, we would need a supercomputer. However, this reduction will be suitable for the remainder of our investigation. The bonus portion of this project will involve identifying the x-ray binary phase of the system ourselves and applying our luminosity function to the appropriate subset of the extended data file. \n",
        "\n",
        "First, we need to identify when the x-ray binary phase begins. We can do this by finding the timestep when the first black hole is formed, which is recorded in the ```kstar_1``` and ```kstar_2``` columns of the data file. If ```kstar_1``` or ```kstar_2``` equals $14$, then that respective object is a black hole. \n",
        "\n",
        "Write a piece of code that identifies the timestep or index of the data file at which each object in the binary becomes a black hole. Store each index as a variable.\n",
        "\n",
        "\n",
        "\n"
      ]
    },
    {
      "cell_type": "code",
      "metadata": {
        "id": "6zD_jiSxScc4",
        "colab_type": "code",
        "colab": {}
      },
      "source": [
        ""
      ],
      "execution_count": null,
      "outputs": []
    },
    {
      "cell_type": "markdown",
      "metadata": {
        "id": "BYoiY_GUSU1_",
        "colab_type": "text"
      },
      "source": [
        "Compare the indicies or timesteps you found above, and determine which one occurred first. This index represents the beginning of the x-ray binary phase. Store this index as a separate variable."
      ]
    },
    {
      "cell_type": "code",
      "metadata": {
        "id": "EUb3c30uTIcU",
        "colab_type": "code",
        "colab": {}
      },
      "source": [
        ""
      ],
      "execution_count": null,
      "outputs": []
    },
    {
      "cell_type": "markdown",
      "metadata": {
        "id": "4NqgBHvyTIvV",
        "colab_type": "text"
      },
      "source": [
        "The above index will help you determine which parameters you need to pass to your luminosity function. First, identify the data columns for $M_{BH}$ and $\\dot{M}_{BH}$ that correspond to the first black hole object. Then, use the above index to cut the necessary data appropriately so that it begins when the x-ray binary phase begins. Store your reduced data in separate arrays."
      ]
    },
    {
      "cell_type": "code",
      "metadata": {
        "id": "p5yE4kxgVDN9",
        "colab_type": "code",
        "colab": {}
      },
      "source": [
        ""
      ],
      "execution_count": null,
      "outputs": []
    },
    {
      "cell_type": "markdown",
      "metadata": {
        "id": "L8Cu2LIfVDi0",
        "colab_type": "text"
      },
      "source": [
        "The x-ray binary phase terminates when the second stellar object becomes a black hole. Using an index or timestep you already found above, further reduce your data arrays so they end when the x-ray binary phase ends."
      ]
    },
    {
      "cell_type": "code",
      "metadata": {
        "id": "AIFGVoUnVqkB",
        "colab_type": "code",
        "colab": {}
      },
      "source": [
        ""
      ],
      "execution_count": null,
      "outputs": []
    },
    {
      "cell_type": "markdown",
      "metadata": {
        "id": "sSHcjLPdVmtG",
        "colab_type": "text"
      },
      "source": [
        "You should now be able to pass your reduced data arrays directly to your function! Do this to calculate the accretion luminosity of the binary during the x-ray binary phase, and print the resulting array of luminosities. Do they seem reasonable?"
      ]
    },
    {
      "cell_type": "code",
      "metadata": {
        "id": "Wt6w8zUhWepk",
        "colab_type": "code",
        "colab": {}
      },
      "source": [
        ""
      ],
      "execution_count": null,
      "outputs": []
    },
    {
      "cell_type": "markdown",
      "metadata": {
        "id": "ZmoNLGt4We_9",
        "colab_type": "text"
      },
      "source": [
        "As a last step, compare your new luminosities to those you found above with the ```cosmic_data_1.csv``` data set. Use ```matplotlib``` to plot a time series of the binary emission over time, and label your plot accordingly. They should look very similar!"
      ]
    },
    {
      "cell_type": "code",
      "metadata": {
        "id": "R4mI0rPKW_wQ",
        "colab_type": "code",
        "colab": {}
      },
      "source": [
        ""
      ],
      "execution_count": null,
      "outputs": []
    },
    {
      "cell_type": "markdown",
      "metadata": {
        "id": "GIqAS9RyXACL",
        "colab_type": "text"
      },
      "source": [
        "Congratulations, you have completed this project! I hoped you have learned some new information about x-ray binary systems, and have also sharpened your coding skills by experimenting with computational methods commonly used in research. If you are looking for more challenges, ask Camille and she will happily give you some!"
      ]
    }
  ]
}